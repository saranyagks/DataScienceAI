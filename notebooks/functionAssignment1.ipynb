{
 "cells": [
  {
   "cell_type": "code",
   "execution_count": 1,
   "metadata": {},
   "outputs": [],
   "source": [
    "class ListItSubfiledsInAI:\n",
    "    def __init__(self, subfields):\n",
    "        self.subfields = subfields\n",
    "\n",
    "    def Subfields(self):\n",
    "        for subfield in self.subfields:\n",
    "            print(subfield)\n",
    "\n",
    "\n"
   ]
  },
  {
   "cell_type": "code",
   "execution_count": 2,
   "metadata": {},
   "outputs": [
    {
     "name": "stdout",
     "output_type": "stream",
     "text": [
      "Sub-Files in AI Are:\n",
      "Machine Learning\n",
      "Neural Networks\n",
      "Vision\n",
      "Robotics\n",
      "Search Processing\n",
      "NLP\n",
      "LLM\n",
      "AI Gents\n"
     ]
    }
   ],
   "source": [
    "\n",
    "subfields = [\n",
    "    \"Sub-Files in AI Are:\",\n",
    "    \"Machine Learning\",\n",
    "    \"Neural Networks\",\n",
    "    \"Vision\",\n",
    "    \"Robotics\",\n",
    "    \"Search Processing\",\n",
    "    \"NLP\",\n",
    "    \"LLM\",\n",
    "    \"AI Gents\",\n",
    "]\n",
    "subfieldsList = ListItSubfiledsInAI(subfields)\n",
    "subfieldsList.Subfields()"
   ]
  },
  {
   "cell_type": "code",
   "execution_count": 8,
   "metadata": {},
   "outputs": [],
   "source": [
    "class OddEven:\n",
    "    def __init__(self, number):\n",
    "        self.number = number\n",
    "\n",
    "    def OddEven(self):\n",
    "        if self.number % 2 == 0:\n",
    "            print(\"The number is even\")\n",
    "        else:\n",
    "            print(\"The number is odd\")  \n",
    "            \n"
   ]
  },
  {
   "cell_type": "code",
   "execution_count": 9,
   "metadata": {},
   "outputs": [
    {
     "name": "stdout",
     "output_type": "stream",
     "text": [
      "The number is even\n"
     ]
    }
   ],
   "source": [
    "number = int(input(\"Enter a number: \"))\n",
    "OddEven = OddEven(number)\n",
    "OddEven.OddEven()"
   ]
  },
  {
   "cell_type": "code",
   "execution_count": 10,
   "metadata": {},
   "outputs": [],
   "source": [
    "class EligibilityForMarriage:\n",
    "    def __init__(self, gender, age):\n",
    "        self.gender = gender\n",
    "        self.age = age\n",
    "\n",
    "    def Elegible(self):\n",
    "        if self.gender.lower() == \"male\" and self.age >= 21:\n",
    "            print(\"Eligible for marriage\")\n",
    "        elif self.gender.lower() == \"female\" and self.age >= 18:\n",
    "            print(\"Eligible for marriage\")\n",
    "        else:\n",
    "            print(\"Not eligible for marriage\")\n"
   ]
  },
  {
   "cell_type": "code",
   "execution_count": 11,
   "metadata": {},
   "outputs": [
    {
     "name": "stdout",
     "output_type": "stream",
     "text": [
      "Not eligible for marriage\n"
     ]
    }
   ],
   "source": [
    "gender = input(\"Enter your gender (male/female): \")\n",
    "age = int(input(\"Enter your age: \"))\n",
    "eligibility = EligibilityForMarriage(gender, age)\n",
    "eligibility.Elegible()"
   ]
  },
  {
   "cell_type": "code",
   "execution_count": 14,
   "metadata": {},
   "outputs": [],
   "source": [
    "class FindPercentage:\n",
    "    def __init__(self, marks):\n",
    "        self.marks = marks\n",
    "\n",
    "    def Percentage(self):\n",
    "        total = sum(self.marks)\n",
    "        percentage = total / len(\n",
    "            self.marks\n",
    "        )  \n",
    "        print(\"Percentage: \", percentage)\n",
    "        if percentage >= 90:\n",
    "            print(\"Grade: A+\")\n",
    "        elif percentage >= 80:\n",
    "           print(\"Grade: A\")\n",
    "        elif percentage >= 70:\n",
    "           print(\"Grade: B+\")\n",
    "        elif percentage >= 60:\n",
    "           print(\"Grade: B\")\n",
    "        elif percentage >= 50:\n",
    "           print(\"Grade: C+\")\n",
    "        elif percentage >= 40:\n",
    "           print(\"Grade: C\")\n",
    "        else:\n",
    "           print(\"Grade: F\")"
   ]
  },
  {
   "cell_type": "code",
   "execution_count": 15,
   "metadata": {},
   "outputs": [
    {
     "name": "stdout",
     "output_type": "stream",
     "text": [
      "Percentage:  67.0\n",
      "Grade: B\n"
     ]
    }
   ],
   "source": [
    "marks = []\n",
    "for i in range(1, 6):\n",
    "    subject_name = f\"Subject {i}\"\n",
    "    marks.append(int(input(f\"Enter marks for {subject_name}: \")))\n",
    "\n",
    "# Create an instance of FindPercentage and calculate the grade\n",
    "Findpercentage = FindPercentage(marks)\n",
    "Findpercentage.Percentage()"
   ]
  },
  {
   "cell_type": "code",
   "execution_count": 16,
   "metadata": {},
   "outputs": [],
   "source": [
    "class Triangle:\n",
    "    def __init__(self, height, base, side):\n",
    "        self.height = height\n",
    "        self.base = base\n",
    "        self.side = side\n",
    "\n",
    "    def Area(self):\n",
    "        area = 0.5 * self.height * self.base\n",
    "        print(\"Area of Triangle: \", area)\n",
    "\n",
    "    def Perimeter(self):\n",
    "        perimeter = self.height + self.base + self.side\n",
    "        print(\"Perimeter of a Triangle: \", perimeter)"
   ]
  },
  {
   "cell_type": "code",
   "execution_count": 17,
   "metadata": {},
   "outputs": [
    {
     "name": "stdout",
     "output_type": "stream",
     "text": [
      "Area of Triangle:  544.0\n",
      "Area Formula: (Height * Base) / 2\n",
      "Area of Triangle:  544.0\n",
      "Perimeter Formula: (Height + Base + Side)\n",
      "Perimeter of a Triangle:  10\n"
     ]
    }
   ],
   "source": [
    "height = int(input(\"Enter height of the triangle: \"))\n",
    "base = int(input(\"Enter base of the triangle: \"))\n",
    "triangle = Triangle(height, base, 0)    \n",
    "print(\"Area Formula: (Height * Base) / 2\")\n",
    "triangle.Area()\n",
    "height = int(input(\"Enter height of the triangle: \"))\n",
    "base = int(input(\"Enter base of the triangle: \"))\n",
    "side = int(input(\"Enter side of the triangle: \"))\n",
    "print(\"Perimeter Formula: (Height + Base + Side)\")\n",
    "triangle = Triangle(height, base, side)\n",
    "triangle.Perimeter()"
   ]
  }
 ],
 "metadata": {
  "kernelspec": {
   "display_name": ".venv",
   "language": "python",
   "name": "python3"
  },
  "language_info": {
   "codemirror_mode": {
    "name": "ipython",
    "version": 3
   },
   "file_extension": ".py",
   "mimetype": "text/x-python",
   "name": "python",
   "nbconvert_exporter": "python",
   "pygments_lexer": "ipython3",
   "version": "3.11.0"
  }
 },
 "nbformat": 4,
 "nbformat_minor": 2
}
