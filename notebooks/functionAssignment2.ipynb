{
 "cells": [
  {
   "cell_type": "code",
   "execution_count": 1,
   "metadata": {},
   "outputs": [
    {
     "name": "stdout",
     "output_type": "stream",
     "text": [
      "Sub-Files in AI Are:\n",
      "Machine Learning\n",
      "Neural Networks\n",
      "Vision\n",
      "Robotics\n",
      "Search Processing\n",
      "NLP\n",
      "LLM\n",
      "AI Agents\n"
     ]
    }
   ],
   "source": [
    "\n",
    "from multiFunctions import multiFunction\n",
    "subfields = [\n",
    "    \"Sub-Files in AI Are:\",\n",
    "    \"Machine Learning\",\n",
    "    \"Neural Networks\",\n",
    "    \"Vision\",\n",
    "    \"Robotics\",\n",
    "    \"Search Processing\",\n",
    "    \"NLP\",\n",
    "    \"LLM\",\n",
    "    \"AI Agents\",\n",
    "]\n",
    "multiFunctionInstance = multiFunction(subfields)\n",
    "subfieldsList = multiFunctionInstance.list_subfields_in_ai()"
   ]
  },
  {
   "cell_type": "code",
   "execution_count": 2,
   "metadata": {},
   "outputs": [
    {
     "name": "stdout",
     "output_type": "stream",
     "text": [
      "The number is even\n"
     ]
    },
    {
     "data": {
      "text/plain": [
       "'The number is even'"
      ]
     },
     "execution_count": 2,
     "metadata": {},
     "output_type": "execute_result"
    }
   ],
   "source": [
    "multiFunction.OddEven()\n"
   ]
  },
  {
   "cell_type": "code",
   "execution_count": 2,
   "metadata": {},
   "outputs": [
    {
     "name": "stdout",
     "output_type": "stream",
     "text": [
      "Not eligible for marriage\n"
     ]
    },
    {
     "data": {
      "text/plain": [
       "'Not eligible for marriage'"
      ]
     },
     "execution_count": 2,
     "metadata": {},
     "output_type": "execute_result"
    }
   ],
   "source": [
    "multiFunction.Elegible()\n"
   ]
  },
  {
   "cell_type": "code",
   "execution_count": 3,
   "metadata": {},
   "outputs": [
    {
     "name": "stdout",
     "output_type": "stream",
     "text": [
      "Percentage: 76.0%\n",
      "Grade: B+\n"
     ]
    }
   ],
   "source": [
    "multiFunction.Percentage()"
   ]
  },
  {
   "cell_type": "code",
   "execution_count": 4,
   "metadata": {},
   "outputs": [
    {
     "name": "stdout",
     "output_type": "stream",
     "text": [
      "Area of Triangle: 14.0\n",
      "Area Formula: (Height * Base) / 2\n"
     ]
    },
    {
     "data": {
      "text/plain": [
       "14.0"
      ]
     },
     "execution_count": 4,
     "metadata": {},
     "output_type": "execute_result"
    }
   ],
   "source": [
    "multiFunction.Area()"
   ]
  },
  {
   "cell_type": "code",
   "execution_count": 6,
   "metadata": {},
   "outputs": [
    {
     "name": "stdout",
     "output_type": "stream",
     "text": [
      "Perimeter of Triangle: 17.0\n",
      "Perimeter Formula: (Height + Base + Side)\n"
     ]
    },
    {
     "data": {
      "text/plain": [
       "17.0"
      ]
     },
     "execution_count": 6,
     "metadata": {},
     "output_type": "execute_result"
    }
   ],
   "source": [
    "multiFunction.Perimeter()\n",
    "    "
   ]
  },
  {
   "cell_type": "code",
   "execution_count": 7,
   "metadata": {},
   "outputs": [
    {
     "ename": "AttributeError",
     "evalue": "type object 'multiFunction' has no attribute 'BMI'",
     "output_type": "error",
     "traceback": [
      "\u001b[31m---------------------------------------------------------------------------\u001b[39m",
      "\u001b[31mAttributeError\u001b[39m                            Traceback (most recent call last)",
      "\u001b[36mCell\u001b[39m\u001b[36m \u001b[39m\u001b[32mIn[7]\u001b[39m\u001b[32m, line 1\u001b[39m\n\u001b[32m----> \u001b[39m\u001b[32m1\u001b[39m \u001b[43mmultiFunction\u001b[49m\u001b[43m.\u001b[49m\u001b[43mBMI\u001b[49m()\n",
      "\u001b[31mAttributeError\u001b[39m: type object 'multiFunction' has no attribute 'BMI'"
     ]
    }
   ],
   "source": [
    "multiFunction.BMI()\n"
   ]
  }
 ],
 "metadata": {
  "kernelspec": {
   "display_name": ".venv",
   "language": "python",
   "name": "python3"
  },
  "language_info": {
   "codemirror_mode": {
    "name": "ipython",
    "version": 3
   },
   "file_extension": ".py",
   "mimetype": "text/x-python",
   "name": "python",
   "nbconvert_exporter": "python",
   "pygments_lexer": "ipython3",
   "version": "3.11.0"
  }
 },
 "nbformat": 4,
 "nbformat_minor": 2
}
